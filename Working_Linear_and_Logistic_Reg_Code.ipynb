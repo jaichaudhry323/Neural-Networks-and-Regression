{
 "cells": [
  {
   "cell_type": "code",
   "execution_count": 2,
   "metadata": {},
   "outputs": [],
   "source": [
    "import numpy as np\n",
    "import matplotlib.pyplot as plt"
   ]
  },
  {
   "cell_type": "markdown",
   "metadata": {},
   "source": [
    "# LINEAR REGRESSION"
   ]
  },
  {
   "cell_type": "code",
   "execution_count": 155,
   "metadata": {},
   "outputs": [],
   "source": [
    "X = np.random.randn(100,1)"
   ]
  },
  {
   "cell_type": "code",
   "execution_count": 156,
   "metadata": {},
   "outputs": [
    {
     "data": {
      "text/plain": [
       "(100, 1)"
      ]
     },
     "execution_count": 156,
     "metadata": {},
     "output_type": "execute_result"
    }
   ],
   "source": [
    "X.shape     # check the size of the matrix"
   ]
  },
  {
   "cell_type": "code",
   "execution_count": 131,
   "metadata": {},
   "outputs": [
    {
     "name": "stdout",
     "output_type": "stream",
     "text": [
      "[1.03660313 2.67129905 0.05053846 8.45236891 7.06170687 6.67643568\n",
      " 5.36563256 1.14991013 2.43502836 3.37941773 2.67507228 8.89513913\n",
      " 1.2006391  4.13306907 3.51675143 9.52038422 0.68570616 1.55819822\n",
      " 9.00564827 3.209536   3.97262835 8.46227245 9.27085274 4.82316188\n",
      " 9.72326775 6.50769531 3.34209188 0.25518225 2.78056108 9.87151047\n",
      " 2.60919845 4.88913347 5.8518901  8.98244196 1.55914581 6.91651105\n",
      " 3.06412598 3.38202152 0.93396113 4.56555145 9.27699586 1.85859711\n",
      " 8.52226328 9.30076022 8.08125944 1.86914584 8.3489587  4.3505761\n",
      " 2.79374495 1.03906775 2.33292651 7.46790739 5.27059175 1.89726808\n",
      " 3.34924356 0.14338403 1.1592291  9.11308219 3.73972503 3.61426145\n",
      " 6.95653466 1.75311592 2.46328115 6.10567676 7.50536943 3.08522355\n",
      " 2.34875262 4.69139943 8.5320659  4.16308729 3.01047374 8.94364808\n",
      " 8.17154303 3.95442844 3.65980177 4.43328135 1.83806293 9.52565694\n",
      " 9.92606808 3.0046909  3.71136898 2.85562099 4.32975175 5.68114619\n",
      " 2.65870948 7.14131926 0.4919086  9.04447099 5.64432669 9.42655039\n",
      " 9.68482187 7.50731096 9.84340017 6.68792339 5.31488938 9.48762349\n",
      " 8.13362657 7.53690731 7.11839595 4.16123668]\n",
      "[1 2 0 8 7 6 5 1 2 3 2 8 1 4 3 9 0 1 9 3 3 8 9 4 9 6 3 0 2 9 2 4 5 8 1 6 3\n",
      " 3 0 4 9 1 8 9 8 1 8 4 2 1 2 7 5 1 3 0 1 9 3 3 6 1 2 6 7 3 2 4 8 4 3 8 8 3\n",
      " 3 4 1 9 9 3 3 2 4 5 2 7 0 9 5 9 9 7 9 6 5 9 8 7 7 4]\n",
      "[0, 0, 0, 0, 0, 0, 1, 1, 1, 1, 1, 1, 1, 1, 1, 1, 1, 1, 2, 2, 2, 2, 2, 2, 2, 2, 2, 2, 2, 3, 3, 3, 3, 3, 3, 3, 3, 3, 3, 3, 3, 3, 3, 3, 3, 4, 4, 4, 4, 4, 4, 4, 4, 4, 4, 5, 5, 5, 5, 5, 5, 6, 6, 6, 6, 6, 6, 7, 7, 7, 7, 7, 7, 7, 8, 8, 8, 8, 8, 8, 8, 8, 8, 8, 8, 9, 9, 9, 9, 9, 9, 9, 9, 9, 9, 9, 9, 9, 9, 9]\n"
     ]
    }
   ],
   "source": [
    "# my doing ( experimentation )  # DONT RUN THIS\n",
    "X=np.random.rand(100)\n",
    "print(X*10)\n",
    "X=X*10;\n",
    "print(X.astype(int))\n",
    "X=X.astype(int)\n",
    "X=sorted(X)\n",
    "print(X)\n",
    "X=np.array(X)"
   ]
  },
  {
   "cell_type": "code",
   "execution_count": 157,
   "metadata": {},
   "outputs": [],
   "source": [
    "Y = np.array([y*8+10 for y in X])  # this type of syntax is called list comprehension\n",
    "# this a short method\n",
    "#u can also use a loop and append the values in the list"
   ]
  },
  {
   "cell_type": "code",
   "execution_count": 133,
   "metadata": {},
   "outputs": [
    {
     "name": "stdout",
     "output_type": "stream",
     "text": [
      "[ 1.46866088  0.1995986  -0.83543417  0.47981774  0.12891135  0.49753477\n",
      "  0.10407178  0.465593    1.45560114  0.74173524 -0.85685181  0.48426915\n",
      "  0.35852095  0.41809633  1.44098998  0.99928863  1.02165551  0.43885321\n",
      "  0.02588285  0.27689964 -0.29051389  0.0088507   2.13546671  1.54863987\n",
      "  1.45396887  0.10684198 -0.64715617  0.23875231 -0.62521321 -0.70876859\n",
      "  0.87091556  1.66573629  1.09770563 -1.40613015  1.02074813 -1.20177171\n",
      "  1.40722232 -0.23890113  0.56546032  1.06291703 -1.44667944  0.9405528\n",
      "  0.98635002 -1.72283518  0.27920231  0.9554157   0.41382173 -0.00545269\n",
      " -1.5305354   0.78203525 -2.2965101   1.06488046  0.7550926  -0.21228659\n",
      "  0.48223177  0.42577327 -2.30577684 -0.25535263 -0.73329904 -0.06138333\n",
      " -0.62497782  0.83067411 -0.03883605 -0.17818638 -1.21960995 -2.53666143\n",
      "  0.31012715  0.38516595 -0.32391568  0.74960097  0.16673849  0.32365517\n",
      "  1.19597849 -0.34652579 -0.47378889  0.6329668   1.57312668  1.20200693\n",
      "  0.55657614  0.31104328 -0.92810256 -1.60025958  1.70946133 -1.09003543\n",
      "  0.93206223 -1.81265151 -1.00220349 -0.69543424  0.5835585  -0.08182008\n",
      "  0.86426658  0.17516652  0.8322685  -0.10661425 -0.67852934 -0.20444701\n",
      " -0.39071514 -0.31023792  0.01466878  0.79949554]\n",
      "[ 1  0  0  0  0  0  0  0  1  0  0  0  0  0  1  0  1  0  0  0  0  0  2  1\n",
      "  1  0  0  0  0  0  0  1  1 -1  1 -1  1  0  0  1 -1  0  0 -1  0  0  0  0\n",
      " -1  0 -2  1  0  0  0  0 -2  0  0  0  0  0  0  0 -1 -2  0  0  0  0  0  0\n",
      "  1  0  0  0  1  1  0  0  0 -1  1 -1  0 -1 -1  0  0  0  0  0  0  0  0  0\n",
      "  0  0  0  0]\n"
     ]
    }
   ],
   "source": [
    "# mydoing ( experimentation )             # DONT RUN THIS\n",
    "Y=np.random.randn(100);    \n",
    "print(Y)\n",
    "print(Y.astype(int))            # typecasting whole numpy array"
   ]
  },
  {
   "cell_type": "code",
   "execution_count": 158,
   "metadata": {},
   "outputs": [
    {
     "data": {
      "text/plain": [
       "(100, 1)"
      ]
     },
     "execution_count": 158,
     "metadata": {},
     "output_type": "execute_result"
    }
   ],
   "source": [
    "Y.shape"
   ]
  },
  {
   "cell_type": "code",
   "execution_count": 159,
   "metadata": {},
   "outputs": [
    {
     "data": {
      "text/plain": [
       "<matplotlib.collections.PathCollection at 0x1e6b93646c8>"
      ]
     },
     "execution_count": 159,
     "metadata": {},
     "output_type": "execute_result"
    },
    {
     "data": {
      "image/png": "[encoded data removed]",
      "text/plain": [
       "<Figure size 576x396 with 1 Axes>"
      ]
     },
     "metadata": {},
     "output_type": "display_data"
    }
   ],
   "source": [
    "plt.scatter(X, Y)   # plot x vs y"
   ]
  },
  {
   "cell_type": "code",
   "execution_count": 160,
   "metadata": {},
   "outputs": [],
   "source": [
    "m = X.shape[0]        # total number of points\n",
    "split = int(0.8*m)     # take a random size of the dataset for training purpose\n",
    "X_train = X[:split]    # take this size of dataset for X\n",
    "Y_train = Y[:split]   # take the same corresponding size for training purpose for Y\n",
    "X_test = X[split:]    # take remaining data for testing , for X\n",
    "Y_test = Y[split:]    # for Y"
   ]
  },
  {
   "cell_type": "code",
   "execution_count": 161,
   "metadata": {},
   "outputs": [
    {
     "data": {
      "text/plain": [
       "(80, 1)"
      ]
     },
     "execution_count": 161,
     "metadata": {},
     "output_type": "execute_result"
    }
   ],
   "source": [
    "X_train.shape"
   ]
  },
  {
   "cell_type": "code",
   "execution_count": 162,
   "metadata": {},
   "outputs": [
    {
     "data": {
      "text/plain": [
       "(20, 1)"
      ]
     },
     "execution_count": 162,
     "metadata": {},
     "output_type": "execute_result"
    }
   ],
   "source": [
    "X_test.shape"
   ]
  },
  {
   "cell_type": "code",
   "execution_count": 163,
   "metadata": {},
   "outputs": [],
   "source": [
    "# linear = hypothesis \n",
    "# "
   ]
  },
  {
   "cell_type": "code",
   "execution_count": 164,
   "metadata": {},
   "outputs": [],
   "source": [
    "def initialize_parameters():     # initialize the parameters theta[0] and theta[1]\n",
    "    w = 0                        # w is m slope\n",
    "    b = 0                        # b is c , intercept                   \n",
    "    return w,b"
   ]
  },
  {
   "cell_type": "code",
   "execution_count": 165,
   "metadata": {},
   "outputs": [],
   "source": [
    "def linear(X, w, b):            # hypothesis function return value of y for a particular value of x and w and b\n",
    "    return w*X+b"
   ]
  },
  {
   "cell_type": "code",
   "execution_count": 166,
   "metadata": {},
   "outputs": [],
   "source": [
    "def compute_cost(A, Y):              # cost computation , we get \n",
    "    m = Y.shape[0]                  # we have x1,x2,x3... and we predicted w and b before calling this function so we calculated \n",
    "                                    # the corresponding y1,y2,y3 ... and sent it here in the form of array 'A'\n",
    "    cost = ((A-Y)**2)                # compute the cost for each preicted y from A and Y array\n",
    "    cost = np.sum(cost, axis=0, keepdims=True)/(2*m)       # now take sum , sqrt not necessary , axis =0 means take sum of all elements of row\n",
    "                                                           # if axis = 1 then it means take sum of all colmns i.e \n",
    "                                                          # \n",
    "    return np.squeeze(cost)                  "
   ]
  },
  {
   "cell_type": "code",
   "execution_count": 167,
   "metadata": {},
   "outputs": [
    {
     "name": "stdout",
     "output_type": "stream",
     "text": [
      "[[[1, 2, 3]]]\n",
      "[1 2 3]\n"
     ]
    }
   ],
   "source": [
    "a=[[[1,2,3]]]\n",
    "print(a)\n",
    "a=np.array(a)\n",
    "print(np.squeeze(a))      # dot squeezee function removes redundant brackets"
   ]
  },
  {
   "cell_type": "code",
   "execution_count": 168,
   "metadata": {},
   "outputs": [],
   "source": [
    "def gradient(X, Y, A):\n",
    "    m = Y.shape[0]\n",
    "    dA = (A-Y)\n",
    "    dw = np.sum(dA*X, axis=0, keepdims=True)/m       # dJ/dw \n",
    "    db = np.sum(dA, axis=0, keepdims=True)/m        # dJ/db \n",
    "    \n",
    "    return np.squeeze(dw), np.squeeze(db)"
   ]
  },
  {
   "cell_type": "code",
   "execution_count": 169,
   "metadata": {},
   "outputs": [],
   "source": [
    "def update_parameters(dw, db, w, b, alpha):       # update function for theta[0] and theta[1] i.e w and b respectively\n",
    "    w = w - alpha*dw                          # dw is dJ/dw \n",
    "    b = b - alpha*db\n",
    "    \n",
    "    return w, b"
   ]
  },
  {
   "cell_type": "code",
   "execution_count": 170,
   "metadata": {},
   "outputs": [],
   "source": [
    "def linearReg(X, Y, num_iter=100, alpha=0.1):  # main function that calculates values of w and b \n",
    "    w, b = initialize_parameters()\n",
    "    costs = []\n",
    "    \n",
    "    for _ in range(num_iter):        # this works , the _ , used when we dont need to work with the iteration variable\n",
    "        A = linear(X, w, b)          # returns y , i.e hypothesis for a given w and b\n",
    "        cost = compute_cost(A, Y)      # compute cost for this predicted hypothesis value\n",
    "        costs.append(cost)             # append cost\n",
    "        dw, db = gradient(X, Y, A)      # dw and db are the differentiated form of J(theta_i), here w is theta[1] i.e slope and theta[0 is intercpet\n",
    "        w, b = update_parameters(dw, db, w, b, alpha)      # update the parameters\n",
    "    return w, b, costs\n",
    "    "
   ]
  },
  {
   "cell_type": "code",
   "execution_count": 171,
   "metadata": {},
   "outputs": [],
   "source": [
    "def predict(X, w, b):     \n",
    "    return w*X+b"
   ]
  },
  {
   "cell_type": "code",
   "execution_count": null,
   "metadata": {},
   "outputs": [],
   "source": []
  },
  {
   "cell_type": "code",
   "execution_count": 172,
   "metadata": {},
   "outputs": [],
   "source": [
    "w,b,costs = linearReg(X_train, Y_train)"
   ]
  },
  {
   "cell_type": "code",
   "execution_count": 173,
   "metadata": {},
   "outputs": [
    {
     "data": {
      "text/plain": [
       "7.998404975858085"
      ]
     },
     "execution_count": 173,
     "metadata": {},
     "output_type": "execute_result"
    }
   ],
   "source": [
    "w"
   ]
  },
  {
   "cell_type": "code",
   "execution_count": 174,
   "metadata": {},
   "outputs": [
    {
     "data": {
      "text/plain": [
       "10.0008068952396"
      ]
     },
     "execution_count": 174,
     "metadata": {},
     "output_type": "execute_result"
    }
   ],
   "source": [
    "b"
   ]
  },
  {
   "cell_type": "code",
   "execution_count": 175,
   "metadata": {},
   "outputs": [
    {
     "data": {
      "text/plain": [
       "[<matplotlib.lines.Line2D at 0x1e6b9984748>]"
      ]
     },
     "execution_count": 175,
     "metadata": {},
     "output_type": "execute_result"
    },
    {
     "data": {
      "image/png": "[encoded data removed]",
      "text/plain": [
       "<Figure size 576x396 with 1 Axes>"
      ]
     },
     "metadata": {},
     "output_type": "display_data"
    }
   ],
   "source": [
    "plt.plot(costs)"
   ]
  },
  {
   "cell_type": "code",
   "execution_count": null,
   "metadata": {},
   "outputs": [],
   "source": []
  },
  {
   "cell_type": "code",
   "execution_count": 176,
   "metadata": {},
   "outputs": [
    {
     "name": "stdout",
     "output_type": "stream",
     "text": [
      "0.001316047711735191\n"
     ]
    }
   ],
   "source": [
    "pre = predict(X_test, w, b)  # pred w and b\n",
    "error = np.abs(pre-Y_test)      # find error\n",
    "print(error.sum()/Y_test.shape[0])  "
   ]
  },
  {
   "cell_type": "code",
   "execution_count": 177,
   "metadata": {},
   "outputs": [
    {
     "data": {
      "image/png": "[encoded data removed]",
      "text/plain": [
       "<Figure size 576x396 with 1 Axes>"
      ]
     },
     "metadata": {},
     "output_type": "display_data"
    }
   ],
   "source": [
    "plt.plot(X,w*X+b)  \n",
    "plt.scatter(X,Y)\n",
    "plt.show()"
   ]
  },
  {
   "cell_type": "code",
   "execution_count": null,
   "metadata": {},
   "outputs": [],
   "source": []
  },
  {
   "cell_type": "code",
   "execution_count": null,
   "metadata": {},
   "outputs": [],
   "source": []
  },
  {
   "cell_type": "markdown",
   "metadata": {},
   "source": [
    "# LOGISTIC REGRESSION :-"
   ]
  },
  {
   "cell_type": "code",
   "execution_count": null,
   "metadata": {},
   "outputs": [],
   "source": []
  },
  {
   "cell_type": "code",
   "execution_count": 46,
   "metadata": {},
   "outputs": [],
   "source": [
    "import numpy as np\n",
    "import pandas as pd\n",
    "import matplotlib.pyplot as plt\n",
    "%matplotlib inline \n",
    "plt.style.use('seaborn')    "
   ]
  },
  {
   "cell_type": "code",
   "execution_count": 83,
   "metadata": {},
   "outputs": [
    {
     "name": "stdout",
     "output_type": "stream",
     "text": [
      "(500, 2)\n",
      "(500, 2)\n"
     ]
    }
   ],
   "source": [
    "# data creation step , idk how , taken from net\n",
    "mean_01 = np.array([1,0.5])\n",
    "cov_01 = np.array([[2,0.1],[0.1,1.2]])\n",
    "\n",
    "mean_02 = np.array([10,5])\n",
    "cov_02 = np.array([[2.21,0.1],[0.1,1.3]])\n",
    "\n",
    "\n",
    "# Normal Distribution\n",
    "dist_01 = np.random.multivariate_normal(mean_01,cov_01,500)\n",
    "dist_02 = np.random.multivariate_normal(mean_02,cov_02,500)\n",
    "\n",
    "print(dist_01.shape)\n",
    "print(dist_02.shape)"
   ]
  },
  {
   "cell_type": "code",
   "execution_count": 84,
   "metadata": {},
   "outputs": [
    {
     "data": {
      "image/png": "[encoded data removed]",
      "text/plain": [
       "<Figure size 432x288 with 1 Axes>"
      ]
     },
     "metadata": {
      "needs_background": "light"
     },
     "output_type": "display_data"
    }
   ],
   "source": [
    "plt.figure(0)\n",
    "plt.scatter(dist_01[:,0],dist_01[:,1],label='Class 0')\n",
    "plt.scatter(dist_02[:,0],dist_02[:,1],color='r',marker='^',label='Class 1')\n",
    "#plt.xlim(-4,10)\n",
    "#plt.ylim(-4,10)\n",
    "plt.xlabel('x1')\n",
    "plt.ylabel('x2')\n",
    "plt.legend()\n",
    "plt.show()"
   ]
  },
  {
   "cell_type": "code",
   "execution_count": 85,
   "metadata": {},
   "outputs": [
    {
     "name": "stdout",
     "output_type": "stream",
     "text": [
      "(1000, 3)\n"
     ]
    }
   ],
   "source": [
    "data = np.zeros((1000,3))\n",
    "print(data.shape)"
   ]
  },
  {
   "cell_type": "code",
   "execution_count": 86,
   "metadata": {},
   "outputs": [],
   "source": [
    "data[:500,:2] = dist_01\n",
    "data[500:,:2] = dist_02\n",
    "data[500:,-1] = 1.0"
   ]
  },
  {
   "cell_type": "code",
   "execution_count": 87,
   "metadata": {},
   "outputs": [
    {
     "name": "stdout",
     "output_type": "stream",
     "text": [
      "[[ 4.34333761 -1.17029912  0.        ]\n",
      " [ 1.71411002  2.01004592  0.        ]\n",
      " [ 0.40905636  2.09240843  0.        ]\n",
      " [ 7.20099103  4.62801622  1.        ]\n",
      " [ 8.32030748  3.55151241  1.        ]\n",
      " [ 2.95771335  0.78374425  0.        ]\n",
      " [ 3.66449919  1.70931962  0.        ]\n",
      " [10.55492163  3.62960147  1.        ]\n",
      " [ 9.85559258  5.50431548  1.        ]\n",
      " [ 1.61074717  3.14421259  0.        ]]\n"
     ]
    }
   ],
   "source": [
    "np.random.shuffle(data)\n",
    "print(data[:10])"
   ]
  },
  {
   "cell_type": "code",
   "execution_count": 88,
   "metadata": {},
   "outputs": [],
   "source": [
    "split = int(0.8*data.shape[0])"
   ]
  },
  {
   "cell_type": "code",
   "execution_count": 89,
   "metadata": {},
   "outputs": [
    {
     "name": "stdout",
     "output_type": "stream",
     "text": [
      "(800, 2) (200, 2)\n",
      "(800,) (200,)\n"
     ]
    }
   ],
   "source": [
    "X_train = data[:split,:-1]\n",
    "X_test = data[split:,:-1]\n",
    "\n",
    "Y_train = data[:split,-1]\n",
    "Y_test  = data[split:,-1]\n",
    "\n",
    "print(X_train.shape,X_test.shape)\n",
    "print(Y_train.shape,Y_test.shape)"
   ]
  },
  {
   "cell_type": "code",
   "execution_count": 90,
   "metadata": {},
   "outputs": [
    {
     "name": "stdout",
     "output_type": "stream",
     "text": [
      "(2, 800) (2, 200)\n",
      "(1, 800) (1, 200)\n"
     ]
    }
   ],
   "source": [
    "X_train = X_train.T  \n",
    "X_test = X_test.T\n",
    "Y_train = Y_train.reshape(1,-1)\n",
    "Y_test = Y_test.reshape(1,-1)\n",
    "\n",
    "print(X_train.shape,X_test.shape)\n",
    "print(Y_train.shape,Y_test.shape)"
   ]
  },
  {
   "cell_type": "code",
   "execution_count": null,
   "metadata": {},
   "outputs": [],
   "source": []
  },
  {
   "cell_type": "code",
   "execution_count": 91,
   "metadata": {},
   "outputs": [],
   "source": [
    "def sigmoid(Z):\n",
    "    return 1/(1+np.exp(-Z))"
   ]
  },
  {
   "cell_type": "code",
   "execution_count": 92,
   "metadata": {},
   "outputs": [],
   "source": [
    "def initialize_parameters(n_x):\n",
    "    W = np.zeros((1,n_x))\n",
    "    b = np.zeros((1,1))\n",
    "    \n",
    "    return W,b"
   ]
  },
  {
   "cell_type": "code",
   "execution_count": 93,
   "metadata": {},
   "outputs": [],
   "source": [
    "def forward(X, W, b):   \n",
    "    Z = np.dot(W, X)+b\n",
    "    return sigmoid(Z)"
   ]
  },
  {
   "cell_type": "code",
   "execution_count": 94,
   "metadata": {},
   "outputs": [],
   "source": [
    "def compute_cost(A, Y):\n",
    "    m = Y.shape[1]\n",
    "    temp = np.multiply(Y, np.log(A)) + np.multiply(1-Y, np.log(1-A))     # cost function  \n",
    "    cost = -np.sum(temp, axis=1, keepdims=True)/m\n",
    "    \n",
    "    return np.squeeze(cost)"
   ]
  },
  {
   "cell_type": "code",
   "execution_count": 95,
   "metadata": {},
   "outputs": [],
   "source": [
    "def backward(X, Y, A):\n",
    "    m = Y.shape[1]\n",
    "    dZ = A-Y\n",
    "    dW = np.dot(dZ, X.T)/m\n",
    "    db = np.sum(dZ, axis=1, keepdims=True)/m\n",
    "    \n",
    "    return dW, db"
   ]
  },
  {
   "cell_type": "code",
   "execution_count": 96,
   "metadata": {},
   "outputs": [],
   "source": [
    "def update_parameters(dW, db, W, b, alpha):\n",
    "    W -= alpha*dW\n",
    "    b -= alpha*db\n",
    "    \n",
    "    return W, b"
   ]
  },
  {
   "cell_type": "code",
   "execution_count": 97,
   "metadata": {},
   "outputs": [],
   "source": [
    "def logisticReg(X, Y, num_itr=1000, alpha=0.7):\n",
    "    costs = []\n",
    "    m = Y.shape[1]\n",
    "    n_x = X.shape[0]\n",
    "    \n",
    "    W, b = initialize_parameters(n_x)\n",
    "    \n",
    "    for _ in range(num_itr):\n",
    "        A = forward(X, W, b)\n",
    "        cost = compute_cost(A, Y)\n",
    "        costs.append(cost)\n",
    "        dW, db = backward(X, Y, A)\n",
    "        W, b = update_parameters(dW, db, W, b, alpha)\n",
    "        \n",
    "    return W, b, costs\n",
    "    "
   ]
  },
  {
   "cell_type": "code",
   "execution_count": null,
   "metadata": {},
   "outputs": [],
   "source": []
  },
  {
   "cell_type": "code",
   "execution_count": 98,
   "metadata": {},
   "outputs": [],
   "source": [
    "W, b, costs = logisticReg(X_train, Y_train)"
   ]
  },
  {
   "cell_type": "code",
   "execution_count": 99,
   "metadata": {
    "scrolled": true
   },
   "outputs": [
    {
     "data": {
      "text/plain": [
       "array([1.14078626, 0.82750144])"
      ]
     },
     "execution_count": 99,
     "metadata": {},
     "output_type": "execute_result"
    }
   ],
   "source": [
    "W = W.squeeze()\n",
    "W"
   ]
  },
  {
   "cell_type": "code",
   "execution_count": 100,
   "metadata": {},
   "outputs": [
    {
     "data": {
      "text/plain": [
       "array(-7.86282392)"
      ]
     },
     "execution_count": 100,
     "metadata": {},
     "output_type": "execute_result"
    }
   ],
   "source": [
    "b = b.squeeze()\n",
    "b"
   ]
  },
  {
   "cell_type": "code",
   "execution_count": null,
   "metadata": {},
   "outputs": [],
   "source": []
  },
  {
   "cell_type": "code",
   "execution_count": 101,
   "metadata": {},
   "outputs": [
    {
     "data": {
      "text/plain": [
       "[<matplotlib.lines.Line2D at 0x261fb22e7c8>]"
      ]
     },
     "execution_count": 101,
     "metadata": {},
     "output_type": "execute_result"
    },
    {
     "data": {
      "image/png": "[encoded data removed]",
      "text/plain": [
       "<Figure size 432x288 with 1 Axes>"
      ]
     },
     "metadata": {
      "needs_background": "light"
     },
     "output_type": "display_data"
    }
   ],
   "source": [
    "plt.plot(costs)"
   ]
  },
  {
   "cell_type": "code",
   "execution_count": 102,
   "metadata": {},
   "outputs": [
    {
     "data": {
      "image/png": "[encoded data removed]",
      "text/plain": [
       "<Figure size 432x288 with 1 Axes>"
      ]
     },
     "metadata": {
      "needs_background": "light"
     },
     "output_type": "display_data"
    }
   ],
   "source": [
    "plt.figure(0)\n",
    "plt.scatter(dist_01[:,0],dist_01[:,1],label='Class 0')\n",
    "plt.scatter(dist_02[:,0],dist_02[:,1],color='r',marker='^',label='Class 1')\n",
    "plt.xlim(-4,10)\n",
    "plt.ylim(-4,10)\n",
    "plt.xlabel('x1')\n",
    "plt.ylabel('x2')\n",
    "\n",
    "x = np.linspace(-4,8,10)\n",
    "y = -(W[0]*x + b)/W[1]\n",
    "plt.plot(x,y,color='k')\n",
    "plt.legend()\n",
    "plt.show()"
   ]
  },
  {
   "cell_type": "code",
   "execution_count": null,
   "metadata": {},
   "outputs": [],
   "source": []
  },
  {
   "cell_type": "code",
   "execution_count": null,
   "metadata": {},
   "outputs": [],
   "source": []
  },
  {
   "cell_type": "code",
   "execution_count": 284,
   "metadata": {},
   "outputs": [
    {
     "ename": "ModuleNotFoundError",
     "evalue": "No module named 'seaborn'",
     "output_type": "error",
     "traceback": [
      "\u001b[1;31m---------------------------------------------------------------------------\u001b[0m",
      "\u001b[1;31mModuleNotFoundError\u001b[0m                       Traceback (most recent call last)",
      "\u001b[1;32m<ipython-input-284-ad134f260d9d>\u001b[0m in \u001b[0;36m<module>\u001b[1;34m\u001b[0m\n\u001b[0;32m      7\u001b[0m \u001b[1;32mimport\u001b[0m \u001b[0mscipy\u001b[0m\u001b[1;33m\u001b[0m\u001b[1;33m\u001b[0m\u001b[0m\n\u001b[0;32m      8\u001b[0m \u001b[1;32mimport\u001b[0m \u001b[0mmatplotlib\u001b[0m\u001b[1;33m.\u001b[0m\u001b[0mpyplot\u001b[0m \u001b[1;32mas\u001b[0m \u001b[0mplt\u001b[0m\u001b[1;33m\u001b[0m\u001b[1;33m\u001b[0m\u001b[0m\n\u001b[1;32m----> 9\u001b[1;33m \u001b[1;32mimport\u001b[0m \u001b[0mseaborn\u001b[0m \u001b[1;32mas\u001b[0m \u001b[0msns\u001b[0m\u001b[1;33m\u001b[0m\u001b[1;33m\u001b[0m\u001b[0m\n\u001b[0m\u001b[0;32m     10\u001b[0m \u001b[1;32mimport\u001b[0m \u001b[0mpystatsml\u001b[0m\u001b[1;33m.\u001b[0m\u001b[0mplot_utils\u001b[0m\u001b[1;33m\u001b[0m\u001b[1;33m\u001b[0m\u001b[0m\n\u001b[0;32m     11\u001b[0m \u001b[1;32mimport\u001b[0m \u001b[0mseaborn\u001b[0m \u001b[1;32mas\u001b[0m \u001b[0msns\u001b[0m \u001b[1;31m# nice color\u001b[0m\u001b[1;33m\u001b[0m\u001b[1;33m\u001b[0m\u001b[0m\n",
      "\u001b[1;31mModuleNotFoundError\u001b[0m: No module named 'seaborn'"
     ]
    }
   ],
   "source": [
    "## Avoid warnings and force inline plot\n",
    "%matplotlib inline\n",
    "import warnings\n",
    "warnings.filterwarnings(\"ignore\")\n",
    "##\n",
    "import numpy as np\n",
    "import scipy\n",
    "import matplotlib.pyplot as plt\n",
    "import pystatsml.plot_utils\n",
    "np.random.seed(42)\n",
    "colors = sns.color_palette()\n",
    "n_samples, n_features = 100, 2\n",
    "mean, Cov, X = [None] * 4, [None] * 4, [None] * 4\n",
    "mean[0] = np.array([-2.5, 2.5])\n",
    "Cov[0] = np.array([[1, 0],\n",
    "[0, 1]])\n",
    "mean[1] = np.array([2.5, 2.5])\n",
    "Cov[1] = np.array([[1, .5],\n",
    "[.5, 1]])\n",
    "mean[2] = np.array([-2.5, -2.5])\n",
    "Cov[2] = np.array([[1, .9],\n",
    "[.9, 1]])\n",
    "mean[3] = np.array([2.5, -2.5])\n",
    "Cov[3] = np.array([[1, -.9],\n",
    "[-.9, 1]])\n",
    "# Generate dataset\n",
    "for i in range(len(mean)):\n",
    "    X[i] = np.random.multivariate_normal(mean[i], Cov[i], n_samples)\n",
    "# Plot\n",
    "for i in range(len(mean)):\n",
    "    # Points\n",
    "    plt.scatter(X[i][:, 0], X[i][:, 1], color=colors[i], label=\"class %i\" % i)\n",
    "    # Means\n",
    "    plt.scatter(mean[i][0], mean[i][1], marker=\"o\", s=200, facecolors='w',\n",
    "    edgecolors=colors[i], linewidth=2)\n",
    "    # Ellipses representing the covariance matrices\n",
    "    pystatsml.plot_utils.plot_cov_ellipse(Cov[i], pos=mean[i], facecolor='none',\n",
    "    linewidth=2, edgecolor=colors[i])\n",
    "    plt.axis('equal')\n",
    "    _ = plt.legend(loc='upper left')\n"
   ]
  },
  {
   "cell_type": "code",
   "execution_count": null,
   "metadata": {},
   "outputs": [],
   "source": []
  }
 ],
 "metadata": {
  "kernelspec": {
   "display_name": "Python 3",
   "language": "python",
   "name": "python3"
  },
  "language_info": {
   "codemirror_mode": {
    "name": "ipython",
    "version": 3
   },
   "file_extension": ".py",
   "mimetype": "text/x-python",
   "name": "python",
   "nbconvert_exporter": "python",
   "pygments_lexer": "ipython3",
   "version": "3.7.4"
  }
 },
 "nbformat": 4,
 "nbformat_minor": 2
}
